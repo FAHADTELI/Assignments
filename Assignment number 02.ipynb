{
 "cells": [
  {
   "cell_type": "code",
   "execution_count": 1,
   "metadata": {},
   "outputs": [
    {
     "name": "stdout",
     "output_type": "stream",
     "text": [
      "Enter marks of the first subject: 89\n",
      "Enter marks of the second subject: 93\n",
      "Enter marks of the third subject: 90\n",
      "Enter marks of the fourth subject: 87\n",
      "Enter marks of the fifth subject: 75\n",
      "Your total marks are434\n",
      "Your Percentage is  86.8\n",
      "Grade : A\n"
     ]
    }
   ],
   "source": [
    "Math = int(input(\"Enter marks of the first subject: \"))\n",
    "English = int(input(\"Enter marks of the second subject: \"))\n",
    "Urdu = int(input(\"Enter marks of the third subject: \"))\n",
    "Science = int(input(\"Enter marks of the fourth subject: \"))\n",
    "Geography = int(input(\"Enter marks of the fifth subject: \"))\n",
    "Total_Marks = Math+English+Urdu+Science+Geography\n",
    "Percentage = (Total_Marks/500)*100\n",
    "print(\"Your total marks are\" + str(Total_Marks))\n",
    "print(\"Your Percentage is \" + \" \" +str(Percentage))\n",
    "if Percentage >= 90 and Percentage <= 100 :\n",
    " print(\"Grade: A+\")\n",
    "elif Percentage >= 80 and Percentage < 90 :\n",
    " print(\"Grade : A\")\n",
    "elif  Percentage >= 70 and Percentage < 80 :\n",
    " print(\"Grade : B\")\n",
    "elif Percentage >= 60 and Percentage < 70 :\n",
    " print(\"Grade : C\")\n",
    "else :\n",
    " print(\"Fail\")"
   ]
  },
  {
   "cell_type": "code",
   "execution_count": 3,
   "metadata": {},
   "outputs": [
    {
     "name": "stdout",
     "output_type": "stream",
     "text": [
      "Enter a number :6\n",
      "It is Even\n"
     ]
    }
   ],
   "source": [
    "num = int(input(\"Enter a number :\"))\n",
    "if num % 2 == 0 :\n",
    " print(\"It is Even\")\n",
    "else :\n",
    " print(\"It is Odd\")"
   ]
  },
  {
   "cell_type": "code",
   "execution_count": 5,
   "metadata": {},
   "outputs": [
    {
     "name": "stdout",
     "output_type": "stream",
     "text": [
      "The length of the list is : 3\n"
     ]
    }
   ],
   "source": [
    "arr = len([4 , 7 , 8])\n",
    "print(\"The length of the list is :\" , arr)"
   ]
  },
  {
   "cell_type": "code",
   "execution_count": 4,
   "metadata": {},
   "outputs": [
    {
     "name": "stdout",
     "output_type": "stream",
     "text": [
      "24\n"
     ]
    }
   ],
   "source": [
    "arr2 = [4 , 7 , 8  ,3 , 2]\n",
    "b= sum(arr2)\n",
    "print(b)"
   ]
  },
  {
   "cell_type": "code",
   "execution_count": 6,
   "metadata": {},
   "outputs": [
    {
     "name": "stdout",
     "output_type": "stream",
     "text": [
      "Largest number is : 7865436\n"
     ]
    }
   ],
   "source": [
    "list1 = [35 , 8754 , 7865436]\n",
    "print(\"Largest number is :\" , max(list1))"
   ]
  },
  {
   "cell_type": "code",
   "execution_count": 7,
   "metadata": {},
   "outputs": [
    {
     "name": "stdout",
     "output_type": "stream",
     "text": [
      "1\n",
      "1\n",
      "2\n",
      "3\n"
     ]
    }
   ],
   "source": [
    "a = [1 , 1, 2, 3, 5, 8, 13, 21, 34, 55, 89]\n",
    "for i in a :\n",
    "    if i < 5 :\n",
    "     print(i) "
   ]
  },
  {
   "cell_type": "code",
   "execution_count": null,
   "metadata": {},
   "outputs": [],
   "source": []
  }
 ],
 "metadata": {
  "kernelspec": {
   "display_name": "Python 3",
   "language": "python",
   "name": "python3"
  },
  "language_info": {
   "codemirror_mode": {
    "name": "ipython",
    "version": 3
   },
   "file_extension": ".py",
   "mimetype": "text/x-python",
   "name": "python",
   "nbconvert_exporter": "python",
   "pygments_lexer": "ipython3",
   "version": "3.7.4"
  }
 },
 "nbformat": 4,
 "nbformat_minor": 2
}
