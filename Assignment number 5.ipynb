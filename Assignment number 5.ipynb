{
 "cells": [
  {
   "cell_type": "markdown",
   "metadata": {},
   "source": [
    " # 1. Write a Python function to calculate the factorial of a number (a non-negative integer). The function accepts the number as an argument."
   ]
  },
  {
   "cell_type": "code",
   "execution_count": 2,
   "metadata": {},
   "outputs": [
    {
     "name": "stdout",
     "output_type": "stream",
     "text": [
      "Input a number to calculate factorial :34\n",
      "295232799039604140847618609643520000000\n"
     ]
    }
   ],
   "source": [
    "def fac(n):\n",
    "    if n == 0:\n",
    "        return 1\n",
    "    else:\n",
    "        return n * fac(n-1)\n",
    "n=int(input(\"Input a number to calculate factorial :\"))\n",
    "print(fac(n))    "
   ]
  },
  {
   "cell_type": "markdown",
   "metadata": {},
   "source": [
    "# 2. Write a Python function that accepts a string and calculate the number of upper case letters and lower case letters."
   ]
  },
  {
   "cell_type": "code",
   "execution_count": 3,
   "metadata": {},
   "outputs": [
    {
     "name": "stdout",
     "output_type": "stream",
     "text": [
      "Given text is : Twinkle Twinkle Little Star\n",
      "Number Of Upper Case: 4\n",
      "Number Of Lower Case: 20\n"
     ]
    }
   ],
   "source": [
    "def check_string(text):\n",
    "    print(\"Given text is :\" , text)\n",
    "    d={\"Upper_Case\":0, \"Lower_Case\":0}\n",
    "    for Case in text:\n",
    "        if Case.isupper():\n",
    "            d[\"Upper_Case\"]+=1\n",
    "        elif Case.islower():\n",
    "            d[\"Lower_Case\"]+=1\n",
    "        else:\n",
    "            pass\n",
    "    \n",
    "    print(\"Number Of Upper Case:\", d[\"Upper_Case\"])\n",
    "    print(\"Number Of Lower Case:\", d[\"Lower_Case\"])\n",
    "    \n",
    "check_string(\"Twinkle Twinkle Little Star\")"
   ]
  },
  {
   "cell_type": "markdown",
   "metadata": {},
   "source": [
    "# 3. Write a Python function to print the even numbers from a given list."
   ]
  },
  {
   "cell_type": "code",
   "execution_count": 1,
   "metadata": {},
   "outputs": [
    {
     "name": "stdout",
     "output_type": "stream",
     "text": [
      "[4, 8, 94]\n"
     ]
    }
   ],
   "source": [
    "def even_num(n):\n",
    "        return list(i for i in n if i % 2 ==0 )\n",
    "print(even_num([4 , 8 , 3 , 35 , 94 , 31 , 77 , 33]))"
   ]
  },
  {
   "cell_type": "markdown",
   "metadata": {},
   "source": [
    "# 4, Write a Python function that checks whether a passed string is palindrome or not.\n",
    "# Note: A palindrome is a word, phrase, or sequence that reads the same backward as forward, e.g., madam"
   ]
  },
  {
   "cell_type": "code",
   "execution_count": 2,
   "metadata": {},
   "outputs": [
    {
     "name": "stdout",
     "output_type": "stream",
     "text": [
      "True\n"
     ]
    }
   ],
   "source": [
    "def palindrome(string):\n",
    "    left_p = 0\n",
    "    right_p = len(string)-1\n",
    "    while right_p >= left_p:\n",
    "        if not string[left_p ] == string[right_p]:\n",
    "            return False\n",
    "        left_p +=1\n",
    "        right_p -=1\n",
    "    return True\n",
    "print(palindrome(\"madam\"))\n",
    "\n"
   ]
  },
  {
   "cell_type": "markdown",
   "metadata": {},
   "source": [
    "# 5. Suppose a customer is shopping in a market and you need to print all the items which user bought from market.\n",
    "# Write a function which accepts the multiple arguments of user shopping list and print all the items which user bought from market."
   ]
  },
  {
   "cell_type": "code",
   "execution_count": 4,
   "metadata": {},
   "outputs": [
    {
     "name": "stdout",
     "output_type": "stream",
     "text": [
      "List of things to buy from the shops\n",
      "Enter 'Done' to stop adding items\n",
      "-> face wash\n",
      "-> shampoo\n",
      "-> soap\n",
      "-> brush\n",
      "-> toothpaste\n",
      "-> Done\n",
      "Here's your list:\n",
      "face wash\n",
      "shampoo\n",
      "soap\n",
      "brush\n",
      "toothpaste\n"
     ]
    }
   ],
   "source": [
    "shopping_list = []\n",
    "\n",
    "print(\"List of things to buy from the shops\")\n",
    "print(\"Enter 'Done' to stop adding items\")\n",
    "\n",
    "while True:\n",
    "    new_item = input(\"-> \")\n",
    "\n",
    "    if new_item == 'Done':\n",
    "        break\n",
    "\n",
    "    shopping_list.append(new_item)\n",
    "\n",
    "print(\"Here's your list:\")\n",
    "\n",
    "for item in shopping_list:\n",
    "    print(item)"
   ]
  },
  {
   "cell_type": "markdown",
   "metadata": {},
   "source": [
    "# 6. Write a Python function that takes a number as a parameter and check the number is prime or not.¶"
   ]
  },
  {
   "cell_type": "code",
   "execution_count": 5,
   "metadata": {},
   "outputs": [
    {
     "name": "stdout",
     "output_type": "stream",
     "text": [
      "True\n"
     ]
    }
   ],
   "source": [
    "def test_prime(n):\n",
    "    if(n==1):\n",
    "        return False\n",
    "    elif (n==2):\n",
    "        return True\n",
    "    else:\n",
    "        for x in range(2,n):\n",
    "            if(n%x==0):\n",
    "                return False\n",
    "        return True\n",
    "print(test_prime(7))"
   ]
  },
  {
   "cell_type": "code",
   "execution_count": null,
   "metadata": {},
   "outputs": [],
   "source": []
  }
 ],
 "metadata": {
  "kernelspec": {
   "display_name": "Python 3",
   "language": "python",
   "name": "python3"
  },
  "language_info": {
   "codemirror_mode": {
    "name": "ipython",
    "version": 3
   },
   "file_extension": ".py",
   "mimetype": "text/x-python",
   "name": "python",
   "nbconvert_exporter": "python",
   "pygments_lexer": "ipython3",
   "version": "3.7.4"
  }
 },
 "nbformat": 4,
 "nbformat_minor": 2
}
