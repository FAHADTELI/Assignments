{
 "cells": [
  {
   "cell_type": "markdown",
   "metadata": {},
   "source": [
    "# Question 1:\n",
    "# Define Object Oriented Programming Language?\n",
    "\n",
    "\n",
    "# Answer :"
   ]
  },
  {
   "cell_type": "markdown",
   "metadata": {},
   "source": [
    "Python is a multi paradigm programming language.One of the popular approach to solve a programming problems is by creating  objects.This is knowns Object-Oriented objects (OOP)."
   ]
  },
  {
   "cell_type": "markdown",
   "metadata": {},
   "source": [
    "# Question 2:\n",
    "# List down the Benefits of OOP?\n",
    "\n",
    "# Answer :"
   ]
  },
  {
   "cell_type": "markdown",
   "metadata": {},
   "source": [
    "1)It provides a clear modular structure for programs which makes it good for definig abstract datatypes in which implementation details are hidden.\n",
    "\n",
    "2)Objects can also be reused within an across applications.\n",
    "\n",
    "3)It makes software easier to use.\n",
    "\n",
    "4)Reuse also enables faster devolopement."
   ]
  },
  {
   "cell_type": "markdown",
   "metadata": {},
   "source": [
    "# Question 3:\n",
    "# Differentiate between function and method?\n",
    "\n",
    "# Answer :"
   ]
  },
  {
   "cell_type": "markdown",
   "metadata": {},
   "source": [
    "Functions are defined outside of classes,While Methods are defined inside of  and part of and classes.A function is a piece of code that is called by name.It can be passed data to operate on and can optionally returned data.All data that is passed to a fuction is explicitly passed.A method is a piece of code that is called a name that is associated with an object."
   ]
  },
  {
   "cell_type": "markdown",
   "metadata": {},
   "source": [
    "# Question 4:\n",
    "# Define the following terms:\n",
    "# 1. Class\n",
    "\n",
    "It is a template about the capability of what an object can do.\n",
    "\n",
    "\n",
    "# 2. Object\n",
    "\n",
    "An object is an instantiation of a class .\n",
    "\n",
    "# 3. Attribute\n",
    "\n",
    "Attributes are the properties of object.\n",
    "\n",
    "# 4. Behavior\n",
    "A class's behavior determines how an instance of that class operates ."
   ]
  },
  {
   "cell_type": "markdown",
   "metadata": {},
   "source": [
    "# Question 5:\n",
    "# Write a code in python in which create a class named it Car which have 5 attributes such like (model, color and name etc.) and 3 methods. And create 5 object instance from that class."
   ]
  },
  {
   "cell_type": "code",
   "execution_count": 2,
   "metadata": {},
   "outputs": [
    {
     "name": "stdout",
     "output_type": "stream",
     "text": [
      "Car Properties\n",
      "Name         : Ferrari\n",
      "Model        : 2018\n",
      "Color        : Red\n",
      "company        :  Exor\n",
      "Transmission : Auto \n",
      "\n",
      "Car Properties\n",
      "Name         : Hummer\n",
      "Model        : 20127\n",
      "Color        : White\n",
      "company        : General Motors\n",
      "Transmission : Auto \n",
      "\n",
      "Car Properties\n",
      "Name         : Alto\n",
      "Model        : 2013\n",
      "Color        : Black\n",
      "company        : Suzuki\n",
      "Transmission : manual \n",
      "\n",
      "Car Properties\n",
      "Name         : Mehran\n",
      "Model        : 2010\n",
      "Color        : Grey\n",
      "company        : Suzuki\n",
      "Transmission : Manual \n",
      "\n",
      "Car Properties\n",
      "Name         : Civic\n",
      "Model        : 2011\n",
      "Color        : Black\n",
      "company        : Honda\n",
      "Transmission : Auto \n",
      "\n",
      "Before Changing :  Ferrari\n",
      "After Changing :  Cultus\n",
      "Before Changing :   Exor\n",
      "After Changing :  Honda\n"
     ]
    }
   ],
   "source": [
    "class car():\n",
    "    def __init__(self, name, model, color , company  , transmission):\n",
    "        self.name = name\n",
    "        self.model = model\n",
    "        self.color = color\n",
    "        self.company = company\n",
    "        self.transmission= transmission\n",
    "        \n",
    "    def show_properties(self):\n",
    "        print(\"Car Properties\")\n",
    "        print(f\"Name         : {self.name}\")\n",
    "        print(f\"Model        : {self.model}\")\n",
    "        print(f\"Color        : {self.color}\")\n",
    "        print(f\"company        : {self.company}\")\n",
    "        print(f\"Transmission : {self.transmission} \\n\")\n",
    "        \n",
    "        \n",
    "    def update_name(self,newname):\n",
    "        self.name= newname\n",
    "        \n",
    "    def update_company(self,newcompany):\n",
    "        self.company = newcompany\n",
    "        \n",
    "car1 = car(\"Ferrari\" , 2018 , \"Red\" ,\" Exor\" , \"Auto\")\n",
    "car2 = car(\"Hummer\", 20127, \"White\", \"General Motors\" , \"Auto\")\n",
    "car3 = car (\"Alto\", 2013 , \"Black\" ,\"Suzuki\" , \"manual\")\n",
    "car4 = car(\"Mehran\" , 2010 , \"Grey\", \"Suzuki\" , \"Manual\")\n",
    "car5 = car(\"Civic\" , 2011 , \"Black\" , \"Honda\" , \"Auto\")\n",
    "\n",
    "car1.show_properties()\n",
    "car2.show_properties()\n",
    "car3.show_properties()\n",
    "car4.show_properties()\n",
    "car5.show_properties()\n",
    "\n",
    "\n",
    "print(\"Before Changing : \",car1.name)\n",
    "car1.update_name(\"Cultus\")\n",
    "print(\"After Changing : \",car1.name)\n",
    "\n",
    "print(\"Before Changing : \",car1.company)\n",
    "car1.update_company(\"Honda\")\n",
    "print(\"After Changing : \",car1.company)"
   ]
  },
  {
   "cell_type": "code",
   "execution_count": null,
   "metadata": {},
   "outputs": [],
   "source": []
  }
 ],
 "metadata": {
  "kernelspec": {
   "display_name": "Python 3",
   "language": "python",
   "name": "python3"
  },
  "language_info": {
   "codemirror_mode": {
    "name": "ipython",
    "version": 3
   },
   "file_extension": ".py",
   "mimetype": "text/x-python",
   "name": "python",
   "nbconvert_exporter": "python",
   "pygments_lexer": "ipython3",
   "version": "3.7.4"
  }
 },
 "nbformat": 4,
 "nbformat_minor": 2
}
