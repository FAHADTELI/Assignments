{
 "cells": [
  {
   "cell_type": "code",
   "execution_count": 2,
   "metadata": {},
   "outputs": [
    {
     "name": "stdout",
     "output_type": "stream",
     "text": [
      "enter number of math: 78\n",
      "enter number of physics: 67\n",
      "enter number of islamiat: 67\n",
      "enter number of urdu: 87\n",
      "enter number of english: 92\n",
      "Grade: C\n"
     ]
    }
   ],
   "source": [
    "Math = int(input(\"enter number of math: \"))\n",
    "Physics = int(input(\"enter number of physics: \"))\n",
    "Islamiat = int(input(\"enter number of islamiat: \"))\n",
    "Urdu = int(input(\"enter number of urdu: \"))\n",
    "English = int(input(\"enter number of english: \"))\n",
    "avg = (Math+Physics+Islamiat+Urdu+English)/5\n",
    "if avg >= 90 :\n",
    " print(\"Grade: A\")\n",
    "elif avg >= 80 and avg < 90 :\n",
    " print(\"Grade : B\")\n",
    "elif avg >= 70 and avg < 80 :\n",
    "  print(\"Grade: C\")\n",
    "elif avg >= 0 and avg < 70 :\n",
    "  print(\"Fail\")\n",
    "else :\n",
    " print(\"You have given inappropriate avg\")"
   ]
  },
  {
   "cell_type": "code",
   "execution_count": 3,
   "metadata": {},
   "outputs": [
    {
     "name": "stdout",
     "output_type": "stream",
     "text": [
      "Enter a number :6\n",
      "It is Even\n"
     ]
    }
   ],
   "source": [
    "num = int(input(\"Enter a number :\"))\n",
    "if num % 2 == 0 :\n",
    " print(\"It is Even\")\n",
    "else :\n",
    " print(\"It is Odd\")"
   ]
  },
  {
   "cell_type": "code",
   "execution_count": 5,
   "metadata": {},
   "outputs": [
    {
     "name": "stdout",
     "output_type": "stream",
     "text": [
      "The length of the list is : 3\n"
     ]
    }
   ],
   "source": [
    "arr = len([4 , 7 , 8])\n",
    "print(\"The length of the list is :\" , arr)"
   ]
  },
  {
   "cell_type": "code",
   "execution_count": 4,
   "metadata": {},
   "outputs": [
    {
     "name": "stdout",
     "output_type": "stream",
     "text": [
      "24\n"
     ]
    }
   ],
   "source": [
    "arr2 = [4 , 7 , 8  ,3 , 2]\n",
    "b= sum(arr2)\n",
    "print(b)"
   ]
  },
  {
   "cell_type": "code",
   "execution_count": 6,
   "metadata": {},
   "outputs": [
    {
     "name": "stdout",
     "output_type": "stream",
     "text": [
      "Largest number is : 7865436\n"
     ]
    }
   ],
   "source": [
    "list1 = [35 , 8754 , 7865436]\n",
    "print(\"Largest number is :\" , max(list1))"
   ]
  },
  {
   "cell_type": "code",
   "execution_count": 7,
   "metadata": {},
   "outputs": [
    {
     "name": "stdout",
     "output_type": "stream",
     "text": [
      "1\n",
      "1\n",
      "2\n",
      "3\n"
     ]
    }
   ],
   "source": [
    "a = [1 , 1, 2, 3, 5, 8, 13, 21, 34, 55, 89]\n",
    "for i in a :\n",
    "    if i < 5 :\n",
    "     print(i) "
   ]
  },
  {
   "cell_type": "code",
   "execution_count": null,
   "metadata": {},
   "outputs": [],
   "source": []
  }
 ],
 "metadata": {
  "kernelspec": {
   "display_name": "Python 3",
   "language": "python",
   "name": "python3"
  },
  "language_info": {
   "codemirror_mode": {
    "name": "ipython",
    "version": 3
   },
   "file_extension": ".py",
   "mimetype": "text/x-python",
   "name": "python",
   "nbconvert_exporter": "python",
   "pygments_lexer": "ipython3",
   "version": "3.7.4"
  }
 },
 "nbformat": 4,
 "nbformat_minor": 2
}
