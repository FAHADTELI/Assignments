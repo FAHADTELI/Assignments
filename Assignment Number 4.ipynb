{
 "cells": [
  {
   "cell_type": "markdown",
   "metadata": {},
   "source": [
    "# 1.  Use a dictionary to store information about a person you know . Store their first name , last name , age , and the city in which they live . You should have keys such as first_name , last_name , age and city . Print each piece of information stored in your dictionary . Add new key value pair about qualification then update the qualification value to high academic level then delete it."
   ]
  },
  {
   "cell_type": "code",
   "execution_count": 3,
   "metadata": {},
   "outputs": [
    {
     "name": "stdout",
     "output_type": "stream",
     "text": [
      "{'first_name': 'Fahad', 'last_name': 'Anis', 'age': 18, 'city': 'karachi'}\n",
      "{'first_name': 'Fahad', 'last_name': 'Anis', 'age': 18, 'city': 'karachi', 'qualification': 'intermediate'}\n",
      "{'first_name': 'Fahad', 'last_name': 'Anis', 'age': 18, 'city': 'karachi', 'qualification': 'high academic level'}\n",
      "{'first_name': 'Fahad', 'last_name': 'Anis', 'age': 18, 'city': 'karachi'}\n"
     ]
    }
   ],
   "source": [
    "shop_keeper = {\n",
    "    \"first_name\" : \"Fahad\" , \"last_name\" :\"Anis\" , \"age\" : 18 , \"city\" : \"karachi\"\n",
    "}\n",
    "print(shop_keeper)\n",
    "\n",
    "shop_keeper[\"qualification\"] = \"intermediate\"\n",
    "print(shop_keeper)\n",
    "\n",
    "shop_keeper[\"qualification\"] = \"high academic level\"\n",
    "print(shop_keeper)\n",
    "\n",
    "del shop_keeper[\"qualification\"]\n",
    "print(shop_keeper)"
   ]
  },
  {
   "cell_type": "markdown",
   "metadata": {},
   "source": [
    "# 2. Make a dictionary called cities . Use the names of three cities as keys in your dictionary . Create a dictionary of information about each city and include the country that the city is in , its appropriate population , and one fact about that city . The keys for each city's dictionary should be something like country , population , and fact . Print the name of each city and all of the information you have stored about it ."
   ]
  },
  {
   "cell_type": "code",
   "execution_count": 8,
   "metadata": {},
   "outputs": [
    {
     "name": "stdout",
     "output_type": "stream",
     "text": [
      "{'Bangkok': {'country': 'Thailand', 'population': '8.281milion', 'fact': 'Bangkok has still some strange old laws'}, 'Islamabad': {'country': 'pakistan', 'population': '1.015million', 'fact': 'Islamabad have parliment of Pakistan'}, 'Karachi': {'country': 'Pakistan', 'population': '14.91million', 'fact': 'Karachi is among the cheapest city to live in'}}\n"
     ]
    }
   ],
   "source": [
    "Beautiful_cities = {\n",
    "    \"Bangkok\" :\n",
    "     {\n",
    "         \"country\" : \"Thailand\",\n",
    "        \"population\" : \"8.281milion\",\n",
    "        \"fact\" : \"Bangkok has still some strange old laws\"\n",
    "    } ,\n",
    "    \"Islamabad\" :\n",
    "    {   \n",
    "        \"country\" : \"pakistan\",\n",
    "        \"population\" : \"1.015million\",\n",
    "        \"fact\" : \"Islamabad have parliment of Pakistan\"\n",
    "    } ,\n",
    "    \"Karachi\" :\n",
    "    {\n",
    "        \"country\" : \"Pakistan\",\n",
    "        \"population\" : \"14.91million\",\n",
    "        \"fact\" : \"Karachi is among the cheapest city to live in\"\n",
    "        \n",
    "    }\n",
    "\n",
    "}\n",
    "print(Beautiful_cities)"
   ]
  },
  {
   "cell_type": "markdown",
   "metadata": {},
   "source": [
    " #  3. A movie theater charges different ticket prices dependind on a person's age . If a person is under the age of 3 , the ticket is free ; if they are between 3 and 12 , the ticket is dollar 10 ; and if they are over age 12 , the ticket is dollar 15 . Write a loop in which you ask user age , and then tell them the cost their movie ticket."
   ]
  },
  {
   "cell_type": "code",
   "execution_count": 11,
   "metadata": {},
   "outputs": [
    {
     "name": "stdout",
     "output_type": "stream",
     "text": [
      "Enter your age18\n",
      "your ticket is Dollar 15\n"
     ]
    }
   ],
   "source": [
    "Age = int(input(\"Enter your age\"))\n",
    "\n",
    "if Age <3 :\n",
    "    print(\"your ticket is free\")\n",
    "elif Age >=3 and Age <= 12 :\n",
    "    print(\"your tickect is Dollar 10\")\n",
    "else :\n",
    "    print(\"your ticket is Dollar 15\")"
   ]
  },
  {
   "cell_type": "markdown",
   "metadata": {},
   "source": [
    "#  4. Write a funtion called favorite_book() that accepts one parameter , title . The function should print a message , such as one of my favorite books is Alice in Wonderland . Call the function , making sure to include a book title as an arguement in the function call ."
   ]
  },
  {
   "cell_type": "code",
   "execution_count": 12,
   "metadata": {},
   "outputs": [
    {
     "name": "stdout",
     "output_type": "stream",
     "text": [
      "Alice in Wonderland is one of my favorite book\n"
     ]
    }
   ],
   "source": [
    "def Favorite_Book(title) :\n",
    "    print(title + \" is one of my favorite book\")\n",
    "    \n",
    "Favorite_Book(\"Alice in Wonderland\")"
   ]
  },
  {
   "cell_type": "markdown",
   "metadata": {},
   "source": [
    "# 5. Guess the number game.\n",
    "\n",
    "# write a program which randomly generate a number between 1 to 30 and ask the user in input field touess guess the correct number . Give three chances to user guess the number and also give hint to user if hidden number is greater or smaller than the number he given to input field."
   ]
  },
  {
   "cell_type": "code",
   "execution_count": 18,
   "metadata": {},
   "outputs": [
    {
     "name": "stdout",
     "output_type": "stream",
     "text": [
      "Guess any number from 1 to 30:7\n",
      "You Guess The Lower Number!\n",
      "Guess any number from 1 to 30:9\n",
      "You Guess The Lower Number!\n",
      "Guess any number from 1 to 30:24\n",
      "You Guess The Higher Number!\n",
      "Correct Number Is : 21\n"
     ]
    }
   ],
   "source": [
    "import random\n",
    "count = 0 \n",
    "while count < 3 : \n",
    "    guess = int(input(\"Guess any number from 1 to 30:\"))\n",
    "    count += 1\n",
    "    computer_guess_number = random.randint(1,30)\n",
    "    if guess == computer_guess_number  :\n",
    "        print(\"You Guess The Correct Number!\")\n",
    "    elif  guess < computer_guess_number:\n",
    "        print(\"You Guess The Lower Number!\")\n",
    "    else:\n",
    "        guess > computer_guess_number\n",
    "        print(\"You Guess The Higher Number!\")\n",
    "        print(\"Correct Number Is :\", computer_guess_number)"
   ]
  },
  {
   "cell_type": "code",
   "execution_count": null,
   "metadata": {},
   "outputs": [],
   "source": []
  }
 ],
 "metadata": {
  "kernelspec": {
   "display_name": "Python 3",
   "language": "python",
   "name": "python3"
  },
  "language_info": {
   "codemirror_mode": {
    "name": "ipython",
    "version": 3
   },
   "file_extension": ".py",
   "mimetype": "text/x-python",
   "name": "python",
   "nbconvert_exporter": "python",
   "pygments_lexer": "ipython3",
   "version": "3.7.4"
  }
 },
 "nbformat": 4,
 "nbformat_minor": 2
}
