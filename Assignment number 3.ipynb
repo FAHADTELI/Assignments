{
 "cells": [
  {
   "cell_type": "markdown",
   "metadata": {},
   "source": [
    "# 1 . Make a calculator using python with addition , substraction ,multiplication , division and power."
   ]
  },
  {
   "cell_type": "code",
   "execution_count": 3,
   "metadata": {},
   "outputs": [
    {
     "name": "stdout",
     "output_type": "stream",
     "text": [
      "Enter first value 86\n",
      "Enter second value 34\n",
      "Enter operator +\n",
      "120 answer\n"
     ]
    }
   ],
   "source": [
    "val1 = input('Enter first value ')\n",
    "val2 = input('Enter second value ')\n",
    "operator = input('Enter operator ')\n",
    "\n",
    "val1 = int(val1)\n",
    "val2 = int(val2)\n",
    "\n",
    "if operator == '+' :\n",
    "    val = val1 + val2\n",
    "    print(val, 'answer')\n",
    "elif operator == '-' :\n",
    "    val = val1 - val2\n",
    "    print(val, 'answer')\n",
    "elif operator == '*' :\n",
    "    val = val1 * val2\n",
    "    print(val, 'answer')\n",
    "elif operator == '/' :\n",
    "    val = val1 / val2\n",
    "    print(val, 'answer')\n",
    "else :\n",
    "    print('Enter Correct Operator')"
   ]
  },
  {
   "cell_type": "markdown",
   "metadata": {},
   "source": [
    "# Write a program to check if there is any numeric value in list using for loop."
   ]
  },
  {
   "cell_type": "code",
   "execution_count": 4,
   "metadata": {
    "scrolled": true
   },
   "outputs": [
    {
     "name": "stdout",
     "output_type": "stream",
     "text": [
      "altaf Is Character\n",
      "haris Is Character\n",
      "62 Is Numeric\n",
      "86 Is Numeric\n",
      "54 Is Numeric\n",
      "shoaib Is Character\n"
     ]
    }
   ],
   "source": [
    "def is_number(s):\n",
    "    try:\n",
    "        int(s)\n",
    "        return True\n",
    "    except ValueError :\n",
    "        pass\n",
    "    return False\n",
    "\n",
    "list = ['altaf','haris',62,86,54,'shoaib'];\n",
    "for x in list:\n",
    "    if(is_number(x))==True:\n",
    "        print(str(x)+' Is Numeric')\n",
    "    else:\n",
    "        print(x + ' Is Character')"
   ]
  },
  {
   "cell_type": "markdown",
   "metadata": {},
   "source": [
    "# 3. Write a python script to add a key to a Dictionary"
   ]
  },
  {
   "cell_type": "code",
   "execution_count": 6,
   "metadata": {},
   "outputs": [
    {
     "name": "stdout",
     "output_type": "stream",
     "text": [
      "{'First name': 'Ali', 'Last name ': 'Fahad ', 'Address': 'ABC Road Karachi'}\n",
      "{'First name': 'Ali', 'Last name ': 'Fahad ', 'Address': 'ABC Road Karachi', 'Blood group': 'O+'}\n"
     ]
    }
   ],
   "source": [
    "customer = {\"First name\" : \"Ali\" , \"Last name \" : \"Fahad \" , \"Address\" : \"ABC Road Karachi\"}\n",
    "print(customer)\n",
    "customer.update({\"Blood group\" : \"O+\"})\n",
    "print(customer)"
   ]
  },
  {
   "cell_type": "markdown",
   "metadata": {},
   "source": [
    "# 4. Write a python program to sum all the numeric items in a Dictionary."
   ]
  },
  {
   "cell_type": "code",
   "execution_count": 9,
   "metadata": {},
   "outputs": [
    {
     "name": "stdout",
     "output_type": "stream",
     "text": [
      "758\n"
     ]
    }
   ],
   "source": [
    "Medicines = {\"Panadol\" : 52 , \"Acefyl\" : 506 , \"Brufen\" : 76 , \"Scipride\" : 45 , \"ponstan\" : 79}\n",
    "print(sum(Medicines.values()))"
   ]
  },
  {
   "cell_type": "markdown",
   "metadata": {},
   "source": [
    "# 5. Write a python program to find duplicate values from list."
   ]
  },
  {
   "cell_type": "code",
   "execution_count": 13,
   "metadata": {},
   "outputs": [
    {
     "name": "stdout",
     "output_type": "stream",
     "text": [
      "88\n",
      "99\n"
     ]
    }
   ],
   "source": [
    "my_list = [88, 3 , 99 , 1 , 44 , 50 , 88 , 11 , 99 , 40 , 23 , 76]\n",
    "my_list.sort()\n",
    "for i in range (len (my_list) -1):\n",
    "    if my_list[i] == my_list[i+1]:\n",
    "        print(my_list[i])"
   ]
  },
  {
   "cell_type": "markdown",
   "metadata": {},
   "source": [
    " # 6. Write a python Script to check if a given key already exist in a dictionary. "
   ]
  },
  {
   "cell_type": "code",
   "execution_count": 12,
   "metadata": {},
   "outputs": [
    {
     "name": "stdout",
     "output_type": "stream",
     "text": [
      "Key Is Present In The Dictionary\n",
      "Key Is Not Present In The Dictionary\n"
     ]
    }
   ],
   "source": [
    "customer_name = {\"First name\" : \"Shah\" , \"Last name \" : \"Rukh \" , \"Address\" : \"ABC Road Karachi\"}\n",
    "def is_key_present(x):\n",
    "    if x in customer_name :\n",
    "        print(\"Key Is Present In The Dictionary\")\n",
    "    else:\n",
    "        print (\"Key Is Not Present In The Dictionary\")\n",
    "is_key_present(\"Address\")\n",
    "is_key_present(\"Phone number\")"
   ]
  },
  {
   "cell_type": "code",
   "execution_count": null,
   "metadata": {},
   "outputs": [],
   "source": []
  }
 ],
 "metadata": {
  "kernelspec": {
   "display_name": "Python 3",
   "language": "python",
   "name": "python3"
  },
  "language_info": {
   "codemirror_mode": {
    "name": "ipython",
    "version": 3
   },
   "file_extension": ".py",
   "mimetype": "text/x-python",
   "name": "python",
   "nbconvert_exporter": "python",
   "pygments_lexer": "ipython3",
   "version": "3.7.4"
  }
 },
 "nbformat": 4,
 "nbformat_minor": 2
}
